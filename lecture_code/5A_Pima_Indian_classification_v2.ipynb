{
  "nbformat": 4,
  "nbformat_minor": 0,
  "metadata": {
    "colab": {
      "provenance": []
    },
    "kernelspec": {
      "name": "python3",
      "display_name": "Python 3"
    }
  },
  "cells": [
    {
      "cell_type": "markdown",
      "metadata": {
        "id": "E0PrzAyM62ro"
      },
      "source": [
        "Preamble & DU"
      ]
    },
    {
      "cell_type": "code",
      "metadata": {
        "id": "MrbsR3QOyWl0",
        "colab": {
          "base_uri": "https://localhost:8080/"
        },
        "outputId": "d9d6f1b2-c6e6-4c11-9829-48d9ca04bd2c"
      },
      "source": [
        "from numpy import loadtxt\n",
        "from keras.models import Sequential\n",
        "from keras.layers import Dense\n",
        "\n",
        "import time\n",
        "\n",
        "# load the dataset\n",
        "dataset = loadtxt('5A pima-indians-diabetes.data.csv', delimiter=',')\n",
        "\n",
        "# split into input (X) and output (y) variables\n",
        "X = dataset[:,0:7]\n",
        "y = dataset[:,8]\n",
        "\n",
        "dataset"
      ],
      "execution_count": 1,
      "outputs": [
        {
          "output_type": "execute_result",
          "data": {
            "text/plain": [
              "array([[  6.   , 148.   ,  72.   , ...,   0.627,  50.   ,   1.   ],\n",
              "       [  1.   ,  85.   ,  66.   , ...,   0.351,  31.   ,   0.   ],\n",
              "       [  8.   , 183.   ,  64.   , ...,   0.672,  32.   ,   1.   ],\n",
              "       ...,\n",
              "       [  5.   , 121.   ,  72.   , ...,   0.245,  30.   ,   0.   ],\n",
              "       [  1.   , 126.   ,  60.   , ...,   0.349,  47.   ,   1.   ],\n",
              "       [  1.   ,  93.   ,  70.   , ...,   0.315,  23.   ,   0.   ]])"
            ]
          },
          "metadata": {},
          "execution_count": 1
        }
      ]
    },
    {
      "cell_type": "markdown",
      "metadata": {
        "id": "iTgjM-oi6vGV"
      },
      "source": [
        "Create NN"
      ]
    },
    {
      "cell_type": "code",
      "metadata": {
        "id": "dEnylyU76xZr",
        "colab": {
          "base_uri": "https://localhost:8080/"
        },
        "outputId": "ecd9d63a-5391-4958-84cd-81152f54ae64"
      },
      "source": [
        "# define the keras model\n",
        "model = Sequential()\n",
        "model.add(Dense(12, input_dim=7, activation='relu'))\n",
        "model.add(Dense(8, activation='relu'))\n",
        "model.add(Dense(1, activation='sigmoid'))\n",
        "\n",
        "# compile the keras model\n",
        "model.compile(loss='binary_crossentropy', optimizer='adam', metrics=['accuracy'])\n",
        "\n",
        "# fit the keras model on the dataset\n",
        "startTime = time.time()\n",
        "\n",
        "model.fit(X, y, epochs=45, batch_size=10)\n",
        "\n",
        "endTime = time.time()-startTime\n",
        "print(\"elasped time \" + str(endTime))\n",
        "\n",
        "# evaluate the keras model\n",
        "_, accuracy = model.evaluate(X, y)\n",
        "\n",
        "print('\\n Final Accuracy: %.2f' % (accuracy*100))\n"
      ],
      "execution_count": 2,
      "outputs": [
        {
          "output_type": "stream",
          "name": "stdout",
          "text": [
            "Epoch 1/45\n",
            "77/77 [==============================] - 2s 3ms/step - loss: 9.1643 - accuracy: 0.3919\n",
            "Epoch 2/45\n",
            "77/77 [==============================] - 0s 3ms/step - loss: 1.6717 - accuracy: 0.4518\n",
            "Epoch 3/45\n",
            "77/77 [==============================] - 0s 3ms/step - loss: 1.2457 - accuracy: 0.4935\n",
            "Epoch 4/45\n",
            "77/77 [==============================] - 0s 5ms/step - loss: 0.9996 - accuracy: 0.5195\n",
            "Epoch 5/45\n",
            "77/77 [==============================] - 0s 6ms/step - loss: 0.8504 - accuracy: 0.5560\n",
            "Epoch 6/45\n",
            "77/77 [==============================] - 1s 7ms/step - loss: 0.7850 - accuracy: 0.5846\n",
            "Epoch 7/45\n",
            "77/77 [==============================] - 0s 5ms/step - loss: 0.7389 - accuracy: 0.6120\n",
            "Epoch 8/45\n",
            "77/77 [==============================] - 1s 7ms/step - loss: 0.7183 - accuracy: 0.6224\n",
            "Epoch 9/45\n",
            "77/77 [==============================] - 0s 6ms/step - loss: 0.7247 - accuracy: 0.6224\n",
            "Epoch 10/45\n",
            "77/77 [==============================] - 0s 5ms/step - loss: 0.6862 - accuracy: 0.6393\n",
            "Epoch 11/45\n",
            "77/77 [==============================] - 0s 4ms/step - loss: 0.6894 - accuracy: 0.6341\n",
            "Epoch 12/45\n",
            "77/77 [==============================] - 0s 3ms/step - loss: 0.6696 - accuracy: 0.6680\n",
            "Epoch 13/45\n",
            "77/77 [==============================] - 0s 3ms/step - loss: 0.6554 - accuracy: 0.6784\n",
            "Epoch 14/45\n",
            "77/77 [==============================] - 0s 3ms/step - loss: 0.6547 - accuracy: 0.6615\n",
            "Epoch 15/45\n",
            "77/77 [==============================] - 0s 3ms/step - loss: 0.6532 - accuracy: 0.6615\n",
            "Epoch 16/45\n",
            "77/77 [==============================] - 0s 4ms/step - loss: 0.6719 - accuracy: 0.6419\n",
            "Epoch 17/45\n",
            "77/77 [==============================] - 0s 3ms/step - loss: 0.6586 - accuracy: 0.6680\n",
            "Epoch 18/45\n",
            "77/77 [==============================] - 0s 4ms/step - loss: 0.6408 - accuracy: 0.6667\n",
            "Epoch 19/45\n",
            "77/77 [==============================] - 0s 3ms/step - loss: 0.6196 - accuracy: 0.6745\n",
            "Epoch 20/45\n",
            "77/77 [==============================] - 0s 3ms/step - loss: 0.6114 - accuracy: 0.6810\n",
            "Epoch 21/45\n",
            "77/77 [==============================] - 0s 3ms/step - loss: 0.6288 - accuracy: 0.6758\n",
            "Epoch 22/45\n",
            "77/77 [==============================] - 0s 3ms/step - loss: 0.6106 - accuracy: 0.6862\n",
            "Epoch 23/45\n",
            "77/77 [==============================] - 0s 3ms/step - loss: 0.6251 - accuracy: 0.6953\n",
            "Epoch 24/45\n",
            "77/77 [==============================] - 0s 3ms/step - loss: 0.6150 - accuracy: 0.6797\n",
            "Epoch 25/45\n",
            "77/77 [==============================] - 0s 3ms/step - loss: 0.6110 - accuracy: 0.6875\n",
            "Epoch 26/45\n",
            "77/77 [==============================] - 0s 6ms/step - loss: 0.6039 - accuracy: 0.6966\n",
            "Epoch 27/45\n",
            "77/77 [==============================] - 0s 3ms/step - loss: 0.6241 - accuracy: 0.6732\n",
            "Epoch 28/45\n",
            "77/77 [==============================] - 0s 3ms/step - loss: 0.5963 - accuracy: 0.6901\n",
            "Epoch 29/45\n",
            "77/77 [==============================] - 0s 4ms/step - loss: 0.5952 - accuracy: 0.7018\n",
            "Epoch 30/45\n",
            "77/77 [==============================] - 0s 3ms/step - loss: 0.6165 - accuracy: 0.6706\n",
            "Epoch 31/45\n",
            "77/77 [==============================] - 0s 3ms/step - loss: 0.5978 - accuracy: 0.6992\n",
            "Epoch 32/45\n",
            "77/77 [==============================] - 0s 3ms/step - loss: 0.5849 - accuracy: 0.6927\n",
            "Epoch 33/45\n",
            "77/77 [==============================] - 0s 3ms/step - loss: 0.5776 - accuracy: 0.7109\n",
            "Epoch 34/45\n",
            "77/77 [==============================] - 0s 6ms/step - loss: 0.5893 - accuracy: 0.6966\n",
            "Epoch 35/45\n",
            "77/77 [==============================] - 0s 4ms/step - loss: 0.5813 - accuracy: 0.7005\n",
            "Epoch 36/45\n",
            "77/77 [==============================] - 0s 5ms/step - loss: 0.5786 - accuracy: 0.6992\n",
            "Epoch 37/45\n",
            "77/77 [==============================] - 0s 3ms/step - loss: 0.5921 - accuracy: 0.6992\n",
            "Epoch 38/45\n",
            "77/77 [==============================] - 0s 2ms/step - loss: 0.5958 - accuracy: 0.6901\n",
            "Epoch 39/45\n",
            "77/77 [==============================] - 0s 2ms/step - loss: 0.5927 - accuracy: 0.6927\n",
            "Epoch 40/45\n",
            "77/77 [==============================] - 0s 2ms/step - loss: 0.5879 - accuracy: 0.6940\n",
            "Epoch 41/45\n",
            "77/77 [==============================] - 0s 2ms/step - loss: 0.5795 - accuracy: 0.7018\n",
            "Epoch 42/45\n",
            "77/77 [==============================] - 0s 2ms/step - loss: 0.5710 - accuracy: 0.7201\n",
            "Epoch 43/45\n",
            "77/77 [==============================] - 0s 2ms/step - loss: 0.5738 - accuracy: 0.7057\n",
            "Epoch 44/45\n",
            "77/77 [==============================] - 0s 2ms/step - loss: 0.5761 - accuracy: 0.7057\n",
            "Epoch 45/45\n",
            "77/77 [==============================] - 0s 2ms/step - loss: 0.5683 - accuracy: 0.7188\n",
            "elasped time 22.344377040863037\n",
            "24/24 [==============================] - 0s 2ms/step - loss: 0.5976 - accuracy: 0.6966\n",
            "\n",
            " Final Accuracy: 69.66\n"
          ]
        }
      ]
    },
    {
      "cell_type": "markdown",
      "metadata": {
        "id": "7CqaTcIo6ySL"
      },
      "source": [
        "Visualize NN - text"
      ]
    },
    {
      "cell_type": "code",
      "metadata": {
        "id": "BM5BUqH06zdK",
        "colab": {
          "base_uri": "https://localhost:8080/"
        },
        "outputId": "9c6bc243-de3e-497a-ca7a-604521b61805"
      },
      "source": [
        "model.summary()"
      ],
      "execution_count": 3,
      "outputs": [
        {
          "output_type": "stream",
          "name": "stdout",
          "text": [
            "Model: \"sequential\"\n",
            "_________________________________________________________________\n",
            " Layer (type)                Output Shape              Param #   \n",
            "=================================================================\n",
            " dense (Dense)               (None, 12)                96        \n",
            "                                                                 \n",
            " dense_1 (Dense)             (None, 8)                 104       \n",
            "                                                                 \n",
            " dense_2 (Dense)             (None, 1)                 9         \n",
            "                                                                 \n",
            "=================================================================\n",
            "Total params: 209 (836.00 Byte)\n",
            "Trainable params: 209 (836.00 Byte)\n",
            "Non-trainable params: 0 (0.00 Byte)\n",
            "_________________________________________________________________\n"
          ]
        }
      ]
    },
    {
      "cell_type": "markdown",
      "metadata": {
        "id": "v2gzNhXHAr6M"
      },
      "source": [
        "Visualize NN - graphical   \n",
        "   \n",
        "   ann_vizualizer is a seldom – used library, that relies on on older version of keras. The new version of keras is needed for the rest of the course, so this code is not currently functional"
      ]
    },
    {
      "cell_type": "code",
      "metadata": {
        "id": "VQniyQUkAyKj"
      },
      "source": [
        "# create visualization\n",
        "# !pip3 install ann_visualizer\n",
        "\n",
        "# from ann_visualizer.visualize import ann_viz;\n",
        "\n",
        "# ann_viz(model, title=\"Pima Indian Diabetes Dataset NN\")"
      ],
      "execution_count": 4,
      "outputs": []
    },
    {
      "cell_type": "markdown",
      "metadata": {
        "id": "imr6l6nW_3IJ"
      },
      "source": [
        "Overfit the data"
      ]
    },
    {
      "cell_type": "code",
      "metadata": {
        "id": "zQFnr525_4ZI",
        "colab": {
          "base_uri": "https://localhost:8080/"
        },
        "outputId": "f210958e-e294-411a-a51d-c711b04904c6"
      },
      "source": [
        "# define the keras model\n",
        "model = Sequential()\n",
        "model.add(Dense(20, input_dim=7, activation='relu'))\n",
        "model.add(Dense(20, activation='relu'))\n",
        "model.add(Dense(20, activation='sigmoid'))\n",
        "model.add(Dense(20, activation='relu'))\n",
        "model.add(Dense(1, activation='sigmoid'))\n",
        "\n",
        "# compile the keras model\n",
        "model.compile(loss='binary_crossentropy', optimizer='adam', metrics=['accuracy'])\n",
        "\n",
        "# fit the keras model on the dataset\n",
        "startTime = time.time()\n",
        "\n",
        "model.fit(X, y, epochs=100, batch_size=10)\n",
        "\n",
        "endTime = time.time()-startTime\n",
        "print(\"elasped time \" + str(endTime))\n",
        "\n",
        "# evaluate the keras model\n",
        "_, accuracy = model.evaluate(X, y)\n",
        "\n",
        "print('\\n Final Accuracy: %.2f' % (accuracy*100))\n"
      ],
      "execution_count": 5,
      "outputs": [
        {
          "output_type": "stream",
          "name": "stdout",
          "text": [
            "Epoch 1/100\n",
            "77/77 [==============================] - 1s 2ms/step - loss: 0.6959 - accuracy: 0.5742\n",
            "Epoch 2/100\n",
            "77/77 [==============================] - 0s 2ms/step - loss: 0.6363 - accuracy: 0.6510\n",
            "Epoch 3/100\n",
            "77/77 [==============================] - 0s 2ms/step - loss: 0.6232 - accuracy: 0.6523\n",
            "Epoch 4/100\n",
            "77/77 [==============================] - 0s 2ms/step - loss: 0.6121 - accuracy: 0.6706\n",
            "Epoch 5/100\n",
            "77/77 [==============================] - 0s 2ms/step - loss: 0.6032 - accuracy: 0.6719\n",
            "Epoch 6/100\n",
            "77/77 [==============================] - 0s 2ms/step - loss: 0.6057 - accuracy: 0.6667\n",
            "Epoch 7/100\n",
            "77/77 [==============================] - 0s 2ms/step - loss: 0.5993 - accuracy: 0.6641\n",
            "Epoch 8/100\n",
            "77/77 [==============================] - 0s 2ms/step - loss: 0.5909 - accuracy: 0.6745\n",
            "Epoch 9/100\n",
            "77/77 [==============================] - 0s 2ms/step - loss: 0.5895 - accuracy: 0.6784\n",
            "Epoch 10/100\n",
            "77/77 [==============================] - 0s 2ms/step - loss: 0.5886 - accuracy: 0.6797\n",
            "Epoch 11/100\n",
            "77/77 [==============================] - 0s 2ms/step - loss: 0.5872 - accuracy: 0.6966\n",
            "Epoch 12/100\n",
            "77/77 [==============================] - 0s 2ms/step - loss: 0.5837 - accuracy: 0.6914\n",
            "Epoch 13/100\n",
            "77/77 [==============================] - 0s 2ms/step - loss: 0.5786 - accuracy: 0.6797\n",
            "Epoch 14/100\n",
            "77/77 [==============================] - 0s 2ms/step - loss: 0.5807 - accuracy: 0.6680\n",
            "Epoch 15/100\n",
            "77/77 [==============================] - 0s 2ms/step - loss: 0.5711 - accuracy: 0.6927\n",
            "Epoch 16/100\n",
            "77/77 [==============================] - 0s 2ms/step - loss: 0.5731 - accuracy: 0.6953\n",
            "Epoch 17/100\n",
            "77/77 [==============================] - 0s 2ms/step - loss: 0.5805 - accuracy: 0.6966\n",
            "Epoch 18/100\n",
            "77/77 [==============================] - 0s 2ms/step - loss: 0.5674 - accuracy: 0.7148\n",
            "Epoch 19/100\n",
            "77/77 [==============================] - 0s 2ms/step - loss: 0.5695 - accuracy: 0.7031\n",
            "Epoch 20/100\n",
            "77/77 [==============================] - 0s 2ms/step - loss: 0.5700 - accuracy: 0.6979\n",
            "Epoch 21/100\n",
            "77/77 [==============================] - 0s 2ms/step - loss: 0.5782 - accuracy: 0.6940\n",
            "Epoch 22/100\n",
            "77/77 [==============================] - 0s 2ms/step - loss: 0.5704 - accuracy: 0.7018\n",
            "Epoch 23/100\n",
            "77/77 [==============================] - 0s 2ms/step - loss: 0.5606 - accuracy: 0.7005\n",
            "Epoch 24/100\n",
            "77/77 [==============================] - 0s 2ms/step - loss: 0.5577 - accuracy: 0.6966\n",
            "Epoch 25/100\n",
            "77/77 [==============================] - 0s 2ms/step - loss: 0.5555 - accuracy: 0.7031\n",
            "Epoch 26/100\n",
            "77/77 [==============================] - 0s 2ms/step - loss: 0.5667 - accuracy: 0.7083\n",
            "Epoch 27/100\n",
            "77/77 [==============================] - 0s 3ms/step - loss: 0.5694 - accuracy: 0.6823\n",
            "Epoch 28/100\n",
            "77/77 [==============================] - 0s 3ms/step - loss: 0.5577 - accuracy: 0.6849\n",
            "Epoch 29/100\n",
            "77/77 [==============================] - 0s 3ms/step - loss: 0.5470 - accuracy: 0.6979\n",
            "Epoch 30/100\n",
            "77/77 [==============================] - 0s 3ms/step - loss: 0.5588 - accuracy: 0.7279\n",
            "Epoch 31/100\n",
            "77/77 [==============================] - 0s 3ms/step - loss: 0.5477 - accuracy: 0.7109\n",
            "Epoch 32/100\n",
            "77/77 [==============================] - 0s 3ms/step - loss: 0.5481 - accuracy: 0.7083\n",
            "Epoch 33/100\n",
            "77/77 [==============================] - 0s 3ms/step - loss: 0.5389 - accuracy: 0.7161\n",
            "Epoch 34/100\n",
            "77/77 [==============================] - 0s 3ms/step - loss: 0.5479 - accuracy: 0.7148\n",
            "Epoch 35/100\n",
            "77/77 [==============================] - 0s 3ms/step - loss: 0.5509 - accuracy: 0.7070\n",
            "Epoch 36/100\n",
            "77/77 [==============================] - 0s 3ms/step - loss: 0.5460 - accuracy: 0.7122\n",
            "Epoch 37/100\n",
            "77/77 [==============================] - 0s 3ms/step - loss: 0.5385 - accuracy: 0.7135\n",
            "Epoch 38/100\n",
            "77/77 [==============================] - 0s 3ms/step - loss: 0.5366 - accuracy: 0.7253\n",
            "Epoch 39/100\n",
            "77/77 [==============================] - 0s 3ms/step - loss: 0.5357 - accuracy: 0.7227\n",
            "Epoch 40/100\n",
            "77/77 [==============================] - 0s 3ms/step - loss: 0.5338 - accuracy: 0.7253\n",
            "Epoch 41/100\n",
            "77/77 [==============================] - 0s 2ms/step - loss: 0.5338 - accuracy: 0.7188\n",
            "Epoch 42/100\n",
            "77/77 [==============================] - 0s 2ms/step - loss: 0.5271 - accuracy: 0.7188\n",
            "Epoch 43/100\n",
            "77/77 [==============================] - 0s 2ms/step - loss: 0.5373 - accuracy: 0.7122\n",
            "Epoch 44/100\n",
            "77/77 [==============================] - 0s 2ms/step - loss: 0.5335 - accuracy: 0.7174\n",
            "Epoch 45/100\n",
            "77/77 [==============================] - 0s 2ms/step - loss: 0.5259 - accuracy: 0.7370\n",
            "Epoch 46/100\n",
            "77/77 [==============================] - 0s 2ms/step - loss: 0.5176 - accuracy: 0.7266\n",
            "Epoch 47/100\n",
            "77/77 [==============================] - 0s 2ms/step - loss: 0.5270 - accuracy: 0.7161\n",
            "Epoch 48/100\n",
            "77/77 [==============================] - 0s 2ms/step - loss: 0.5318 - accuracy: 0.7148\n",
            "Epoch 49/100\n",
            "77/77 [==============================] - 0s 2ms/step - loss: 0.5338 - accuracy: 0.7266\n",
            "Epoch 50/100\n",
            "77/77 [==============================] - 0s 2ms/step - loss: 0.5182 - accuracy: 0.7318\n",
            "Epoch 51/100\n",
            "77/77 [==============================] - 0s 2ms/step - loss: 0.5243 - accuracy: 0.7344\n",
            "Epoch 52/100\n",
            "77/77 [==============================] - 0s 2ms/step - loss: 0.5190 - accuracy: 0.7383\n",
            "Epoch 53/100\n",
            "77/77 [==============================] - 0s 2ms/step - loss: 0.5110 - accuracy: 0.7409\n",
            "Epoch 54/100\n",
            "77/77 [==============================] - 0s 2ms/step - loss: 0.5233 - accuracy: 0.7227\n",
            "Epoch 55/100\n",
            "77/77 [==============================] - 0s 2ms/step - loss: 0.5153 - accuracy: 0.7279\n",
            "Epoch 56/100\n",
            "77/77 [==============================] - 0s 2ms/step - loss: 0.5285 - accuracy: 0.7279\n",
            "Epoch 57/100\n",
            "77/77 [==============================] - 0s 2ms/step - loss: 0.5138 - accuracy: 0.7331\n",
            "Epoch 58/100\n",
            "77/77 [==============================] - 0s 2ms/step - loss: 0.5090 - accuracy: 0.7435\n",
            "Epoch 59/100\n",
            "77/77 [==============================] - 0s 2ms/step - loss: 0.5134 - accuracy: 0.7435\n",
            "Epoch 60/100\n",
            "77/77 [==============================] - 0s 2ms/step - loss: 0.5229 - accuracy: 0.7240\n",
            "Epoch 61/100\n",
            "77/77 [==============================] - 0s 2ms/step - loss: 0.5141 - accuracy: 0.7422\n",
            "Epoch 62/100\n",
            "77/77 [==============================] - 0s 2ms/step - loss: 0.5137 - accuracy: 0.7266\n",
            "Epoch 63/100\n",
            "77/77 [==============================] - 0s 2ms/step - loss: 0.4978 - accuracy: 0.7513\n",
            "Epoch 64/100\n",
            "77/77 [==============================] - 0s 2ms/step - loss: 0.5138 - accuracy: 0.7487\n",
            "Epoch 65/100\n",
            "77/77 [==============================] - 0s 2ms/step - loss: 0.5072 - accuracy: 0.7396\n",
            "Epoch 66/100\n",
            "77/77 [==============================] - 0s 2ms/step - loss: 0.5099 - accuracy: 0.7474\n",
            "Epoch 67/100\n",
            "77/77 [==============================] - 0s 2ms/step - loss: 0.4956 - accuracy: 0.7448\n",
            "Epoch 68/100\n",
            "77/77 [==============================] - 0s 2ms/step - loss: 0.5043 - accuracy: 0.7526\n",
            "Epoch 69/100\n",
            "77/77 [==============================] - 0s 2ms/step - loss: 0.5026 - accuracy: 0.7474\n",
            "Epoch 70/100\n",
            "77/77 [==============================] - 0s 2ms/step - loss: 0.4971 - accuracy: 0.7318\n",
            "Epoch 71/100\n",
            "77/77 [==============================] - 0s 2ms/step - loss: 0.4883 - accuracy: 0.7474\n",
            "Epoch 72/100\n",
            "77/77 [==============================] - 0s 2ms/step - loss: 0.4934 - accuracy: 0.7409\n",
            "Epoch 73/100\n",
            "77/77 [==============================] - 0s 2ms/step - loss: 0.4975 - accuracy: 0.7461\n",
            "Epoch 74/100\n",
            "77/77 [==============================] - 0s 2ms/step - loss: 0.4994 - accuracy: 0.7383\n",
            "Epoch 75/100\n",
            "77/77 [==============================] - 0s 2ms/step - loss: 0.4876 - accuracy: 0.7591\n",
            "Epoch 76/100\n",
            "77/77 [==============================] - 0s 2ms/step - loss: 0.4871 - accuracy: 0.7500\n",
            "Epoch 77/100\n",
            "77/77 [==============================] - 0s 2ms/step - loss: 0.4892 - accuracy: 0.7552\n",
            "Epoch 78/100\n",
            "77/77 [==============================] - 0s 2ms/step - loss: 0.4842 - accuracy: 0.7539\n",
            "Epoch 79/100\n",
            "77/77 [==============================] - 0s 2ms/step - loss: 0.4874 - accuracy: 0.7461\n",
            "Epoch 80/100\n",
            "77/77 [==============================] - 0s 2ms/step - loss: 0.4799 - accuracy: 0.7474\n",
            "Epoch 81/100\n",
            "77/77 [==============================] - 0s 2ms/step - loss: 0.4741 - accuracy: 0.7656\n",
            "Epoch 82/100\n",
            "77/77 [==============================] - 0s 2ms/step - loss: 0.4880 - accuracy: 0.7461\n",
            "Epoch 83/100\n",
            "77/77 [==============================] - 0s 2ms/step - loss: 0.4925 - accuracy: 0.7448\n",
            "Epoch 84/100\n",
            "77/77 [==============================] - 0s 2ms/step - loss: 0.4773 - accuracy: 0.7565\n",
            "Epoch 85/100\n",
            "77/77 [==============================] - 0s 2ms/step - loss: 0.4716 - accuracy: 0.7565\n",
            "Epoch 86/100\n",
            "77/77 [==============================] - 0s 2ms/step - loss: 0.4758 - accuracy: 0.7552\n",
            "Epoch 87/100\n",
            "77/77 [==============================] - 0s 2ms/step - loss: 0.4871 - accuracy: 0.7487\n",
            "Epoch 88/100\n",
            "77/77 [==============================] - 0s 2ms/step - loss: 0.4723 - accuracy: 0.7552\n",
            "Epoch 89/100\n",
            "77/77 [==============================] - 0s 2ms/step - loss: 0.4906 - accuracy: 0.7461\n",
            "Epoch 90/100\n",
            "77/77 [==============================] - 0s 2ms/step - loss: 0.4776 - accuracy: 0.7461\n",
            "Epoch 91/100\n",
            "77/77 [==============================] - 0s 2ms/step - loss: 0.4746 - accuracy: 0.7669\n",
            "Epoch 92/100\n",
            "77/77 [==============================] - 0s 2ms/step - loss: 0.4674 - accuracy: 0.7565\n",
            "Epoch 93/100\n",
            "77/77 [==============================] - 0s 2ms/step - loss: 0.4739 - accuracy: 0.7552\n",
            "Epoch 94/100\n",
            "77/77 [==============================] - 0s 2ms/step - loss: 0.4610 - accuracy: 0.7591\n",
            "Epoch 95/100\n",
            "77/77 [==============================] - 0s 2ms/step - loss: 0.4772 - accuracy: 0.7682\n",
            "Epoch 96/100\n",
            "77/77 [==============================] - 0s 2ms/step - loss: 0.4717 - accuracy: 0.7539\n",
            "Epoch 97/100\n",
            "77/77 [==============================] - 0s 2ms/step - loss: 0.4733 - accuracy: 0.7565\n",
            "Epoch 98/100\n",
            "77/77 [==============================] - 0s 2ms/step - loss: 0.4625 - accuracy: 0.7656\n",
            "Epoch 99/100\n",
            "77/77 [==============================] - 0s 2ms/step - loss: 0.4745 - accuracy: 0.7513\n",
            "Epoch 100/100\n",
            "77/77 [==============================] - 0s 2ms/step - loss: 0.4660 - accuracy: 0.7695\n",
            "elasped time 21.563306093215942\n",
            "24/24 [==============================] - 0s 2ms/step - loss: 0.4466 - accuracy: 0.7773\n",
            "\n",
            " Final Accuracy: 77.73\n"
          ]
        }
      ]
    },
    {
      "cell_type": "code",
      "metadata": {
        "id": "LDy08DLKna76",
        "colab": {
          "base_uri": "https://localhost:8080/"
        },
        "outputId": "c397779f-f2bc-490d-c6c2-702f3ff0b125"
      },
      "source": [
        "X.shape"
      ],
      "execution_count": 6,
      "outputs": [
        {
          "output_type": "execute_result",
          "data": {
            "text/plain": [
              "(768, 7)"
            ]
          },
          "metadata": {},
          "execution_count": 6
        }
      ]
    }
  ]
}