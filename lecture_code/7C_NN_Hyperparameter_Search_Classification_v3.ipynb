{
  "nbformat": 4,
  "nbformat_minor": 0,
  "metadata": {
    "colab": {
      "provenance": []
    },
    "kernelspec": {
      "name": "python3",
      "display_name": "Python 3"
    }
  },
  "cells": [
    {
      "cell_type": "markdown",
      "metadata": {
        "id": "UvremP7fIP_Q"
      },
      "source": [
        "DU & DP"
      ]
    },
    {
      "cell_type": "markdown",
      "metadata": {
        "id": "j_pfyMzFIMEf"
      },
      "source": [
        "Preamble"
      ]
    },
    {
      "cell_type": "code",
      "metadata": {
        "id": "_PYjCg_DIMpe",
        "colab": {
          "base_uri": "https://localhost:8080/"
        },
        "outputId": "ecaa57f9-e827-4d56-d72e-a09ee96b9740"
      },
      "source": [
        "# Use scikit-learn to grid search the batch size and epochs\n",
        "import numpy\n",
        "from sklearn.model_selection import GridSearchCV\n",
        "from keras.models import Sequential\n",
        "from keras.layers import Dense\n",
        "\n",
        "!pip install scikeras\n",
        "from scikeras.wrappers import KerasClassifier"
      ],
      "execution_count": 1,
      "outputs": [
        {
          "output_type": "stream",
          "name": "stdout",
          "text": [
            "Collecting scikeras\n",
            "  Downloading scikeras-0.11.0-py3-none-any.whl (27 kB)\n",
            "Requirement already satisfied: packaging>=0.21 in /usr/local/lib/python3.10/dist-packages (from scikeras) (23.1)\n",
            "Requirement already satisfied: scikit-learn>=1.0.0 in /usr/local/lib/python3.10/dist-packages (from scikeras) (1.2.2)\n",
            "Requirement already satisfied: numpy>=1.17.3 in /usr/local/lib/python3.10/dist-packages (from scikit-learn>=1.0.0->scikeras) (1.23.5)\n",
            "Requirement already satisfied: scipy>=1.3.2 in /usr/local/lib/python3.10/dist-packages (from scikit-learn>=1.0.0->scikeras) (1.11.2)\n",
            "Requirement already satisfied: joblib>=1.1.1 in /usr/local/lib/python3.10/dist-packages (from scikit-learn>=1.0.0->scikeras) (1.3.2)\n",
            "Requirement already satisfied: threadpoolctl>=2.0.0 in /usr/local/lib/python3.10/dist-packages (from scikit-learn>=1.0.0->scikeras) (3.2.0)\n",
            "Installing collected packages: scikeras\n",
            "Successfully installed scikeras-0.11.0\n"
          ]
        }
      ]
    },
    {
      "cell_type": "code",
      "metadata": {
        "id": "5bBdH3daIZWy",
        "outputId": "e6bb37ec-d494-4420-a1e6-fac5aea93f2b",
        "colab": {
          "base_uri": "https://localhost:8080/"
        }
      },
      "source": [
        "# load dataset\n",
        "dataset = numpy.loadtxt(\"5A pima-indians-diabetes.data.csv\", delimiter=\",\")\n",
        "\n",
        "# split into input (X) and output (Y) variables\n",
        "X = dataset[:,0:8]\n",
        "y = dataset[:,8]\n",
        "\n",
        "print(X)\n"
      ],
      "execution_count": 2,
      "outputs": [
        {
          "output_type": "stream",
          "name": "stdout",
          "text": [
            "[[  6.    148.     72.    ...  33.6     0.627  50.   ]\n",
            " [  1.     85.     66.    ...  26.6     0.351  31.   ]\n",
            " [  8.    183.     64.    ...  23.3     0.672  32.   ]\n",
            " ...\n",
            " [  5.    121.     72.    ...  26.2     0.245  30.   ]\n",
            " [  1.    126.     60.    ...  30.1     0.349  47.   ]\n",
            " [  1.     93.     70.    ...  30.4     0.315  23.   ]]\n"
          ]
        }
      ]
    },
    {
      "cell_type": "markdown",
      "metadata": {
        "id": "Yp7XEYiDIRkF"
      },
      "source": [
        "Define grid functions for KerasClassifier"
      ]
    },
    {
      "cell_type": "code",
      "metadata": {
        "id": "ajqtBV5eDbPu"
      },
      "source": [
        "def create_and_compile_model():\n",
        "\t# create model\n",
        "\tmodel = Sequential()\n",
        "\tmodel.add(Dense(12, input_dim=8, activation='relu'))\n",
        "\tmodel.add(Dense(1, activation='sigmoid'))\n",
        "\n",
        "\t# Compile model\n",
        "\tmodel.compile(loss='binary_crossentropy', optimizer='adam', metrics=['accuracy'])\n",
        "\treturn model\n"
      ],
      "execution_count": 3,
      "outputs": []
    },
    {
      "cell_type": "markdown",
      "metadata": {
        "id": "vQCTOhjwImkB"
      },
      "source": [
        "Create model"
      ]
    },
    {
      "cell_type": "code",
      "metadata": {
        "id": "s8xhU0LWIoDK",
        "colab": {
          "base_uri": "https://localhost:8080/"
        },
        "outputId": "969cfe23-b4e7-4310-b8ee-2a1d527af9f0"
      },
      "source": [
        "# create model\n",
        "model = KerasClassifier(build_fn=create_and_compile_model, verbose=0)\n",
        "\n",
        "# define the grid search parameters\n",
        "batch_size = [10, 20, 40, 60, 80, 100]\n",
        "epochs = [10, 50, 100]\n",
        "\n",
        "param_grid = dict(batch_size=batch_size, epochs=epochs)\n",
        "\n",
        "grid = GridSearchCV(estimator=model, param_grid=param_grid, scoring=\"accuracy\", n_jobs=-1, cv=3)\n",
        "\n",
        "grid_result = grid.fit(X, y)\n"
      ],
      "execution_count": 4,
      "outputs": [
        {
          "output_type": "stream",
          "name": "stderr",
          "text": [
            "/usr/local/lib/python3.10/dist-packages/scikeras/wrappers.py:915: UserWarning: ``build_fn`` will be renamed to ``model`` in a future release, at which point use of ``build_fn`` will raise an Error instead.\n",
            "  X, y = self._initialize(X, y)\n"
          ]
        }
      ]
    },
    {
      "cell_type": "markdown",
      "metadata": {
        "id": "YMyw2nj_Ip-B"
      },
      "source": [
        "Evaluate output"
      ]
    },
    {
      "cell_type": "code",
      "metadata": {
        "id": "uyHBXI5CIsWR",
        "outputId": "57da3add-5bf4-4511-b429-f0ad2d85408f",
        "colab": {
          "base_uri": "https://localhost:8080/"
        }
      },
      "source": [
        "print(\"Best: %f using %s\" % (grid_result.best_score_, grid_result.best_params_))\n",
        "\n",
        "means = grid_result.cv_results_['mean_test_score']\n",
        "\n",
        "params = grid_result.cv_results_['params']\n",
        "\n",
        "for mean, param in zip(means, params):\n",
        "    print(\"train accuracy %f for: %r\" % (mean, param))"
      ],
      "execution_count": 5,
      "outputs": [
        {
          "output_type": "stream",
          "name": "stdout",
          "text": [
            "Best: 0.708333 using {'batch_size': 10, 'epochs': 100}\n",
            "train accuracy 0.613281 for: {'batch_size': 10, 'epochs': 10}\n",
            "train accuracy 0.640625 for: {'batch_size': 10, 'epochs': 50}\n",
            "train accuracy 0.708333 for: {'batch_size': 10, 'epochs': 100}\n",
            "train accuracy 0.555990 for: {'batch_size': 20, 'epochs': 10}\n",
            "train accuracy 0.684896 for: {'batch_size': 20, 'epochs': 50}\n",
            "train accuracy 0.684896 for: {'batch_size': 20, 'epochs': 100}\n",
            "train accuracy 0.588542 for: {'batch_size': 40, 'epochs': 10}\n",
            "train accuracy 0.634115 for: {'batch_size': 40, 'epochs': 50}\n",
            "train accuracy 0.673177 for: {'batch_size': 40, 'epochs': 100}\n",
            "train accuracy 0.498698 for: {'batch_size': 60, 'epochs': 10}\n",
            "train accuracy 0.596354 for: {'batch_size': 60, 'epochs': 50}\n",
            "train accuracy 0.656250 for: {'batch_size': 60, 'epochs': 100}\n",
            "train accuracy 0.466146 for: {'batch_size': 80, 'epochs': 10}\n",
            "train accuracy 0.647135 for: {'batch_size': 80, 'epochs': 50}\n",
            "train accuracy 0.700521 for: {'batch_size': 80, 'epochs': 100}\n",
            "train accuracy 0.427083 for: {'batch_size': 100, 'epochs': 10}\n",
            "train accuracy 0.641927 for: {'batch_size': 100, 'epochs': 50}\n",
            "train accuracy 0.626302 for: {'batch_size': 100, 'epochs': 100}\n"
          ]
        }
      ]
    },
    {
      "cell_type": "markdown",
      "metadata": {
        "id": "e8pT4TRiJaIF"
      },
      "source": [
        "Verify best hyperparameters"
      ]
    },
    {
      "cell_type": "code",
      "metadata": {
        "id": "6wHlZL_5Jdva",
        "outputId": "f52606d8-6876-4d92-afb0-f1a873a71c97",
        "colab": {
          "base_uri": "https://localhost:8080/"
        }
      },
      "source": [
        "# define the keras model\n",
        "model = Sequential()\n",
        "model.add(Dense(12, input_dim=8, activation='relu'))\n",
        "model.add(Dense(1, activation='sigmoid'))\n",
        "\n",
        "# compile the keras model\n",
        "model.compile(loss='binary_crossentropy', optimizer='adam', metrics=['accuracy'])\n",
        "\n",
        "# fit the keras model on the dataset\n",
        "model.fit(X, y, epochs=100, batch_size=60)\n",
        "\n",
        "# evaluate the keras model\n",
        "_, accuracy = model.evaluate(X, y)\n",
        "\n",
        "print('\\n Final Accuracy: %.2f' % (accuracy*100))"
      ],
      "execution_count": 6,
      "outputs": [
        {
          "output_type": "stream",
          "name": "stdout",
          "text": [
            "Epoch 1/100\n",
            "13/13 [==============================] - 0s 1ms/step - loss: 2.1219 - accuracy: 0.5117\n",
            "Epoch 2/100\n",
            "13/13 [==============================] - 0s 2ms/step - loss: 1.7821 - accuracy: 0.5182\n",
            "Epoch 3/100\n",
            "13/13 [==============================] - 0s 3ms/step - loss: 1.5358 - accuracy: 0.5404\n",
            "Epoch 4/100\n",
            "13/13 [==============================] - 0s 2ms/step - loss: 1.3542 - accuracy: 0.5534\n",
            "Epoch 5/100\n",
            "13/13 [==============================] - 0s 2ms/step - loss: 1.2018 - accuracy: 0.5677\n",
            "Epoch 6/100\n",
            "13/13 [==============================] - 0s 2ms/step - loss: 1.1522 - accuracy: 0.5938\n",
            "Epoch 7/100\n",
            "13/13 [==============================] - 0s 6ms/step - loss: 1.0752 - accuracy: 0.6003\n",
            "Epoch 8/100\n",
            "13/13 [==============================] - 0s 5ms/step - loss: 1.0227 - accuracy: 0.6094\n",
            "Epoch 9/100\n",
            "13/13 [==============================] - 0s 3ms/step - loss: 1.0155 - accuracy: 0.6146\n",
            "Epoch 10/100\n",
            "13/13 [==============================] - 0s 6ms/step - loss: 0.9496 - accuracy: 0.6094\n",
            "Epoch 11/100\n",
            "13/13 [==============================] - 0s 4ms/step - loss: 0.9316 - accuracy: 0.6211\n",
            "Epoch 12/100\n",
            "13/13 [==============================] - 0s 4ms/step - loss: 0.9087 - accuracy: 0.6263\n",
            "Epoch 13/100\n",
            "13/13 [==============================] - 0s 4ms/step - loss: 0.8816 - accuracy: 0.6354\n",
            "Epoch 14/100\n",
            "13/13 [==============================] - 0s 2ms/step - loss: 0.8727 - accuracy: 0.6237\n",
            "Epoch 15/100\n",
            "13/13 [==============================] - 0s 2ms/step - loss: 0.8528 - accuracy: 0.6354\n",
            "Epoch 16/100\n",
            "13/13 [==============================] - 0s 2ms/step - loss: 0.8529 - accuracy: 0.6237\n",
            "Epoch 17/100\n",
            "13/13 [==============================] - 0s 1ms/step - loss: 0.8351 - accuracy: 0.6302\n",
            "Epoch 18/100\n",
            "13/13 [==============================] - 0s 1ms/step - loss: 0.8192 - accuracy: 0.6354\n",
            "Epoch 19/100\n",
            "13/13 [==============================] - 0s 2ms/step - loss: 0.7983 - accuracy: 0.6432\n",
            "Epoch 20/100\n",
            "13/13 [==============================] - 0s 2ms/step - loss: 0.7894 - accuracy: 0.6315\n",
            "Epoch 21/100\n",
            "13/13 [==============================] - 0s 2ms/step - loss: 0.7943 - accuracy: 0.6576\n",
            "Epoch 22/100\n",
            "13/13 [==============================] - 0s 2ms/step - loss: 0.7725 - accuracy: 0.6602\n",
            "Epoch 23/100\n",
            "13/13 [==============================] - 0s 2ms/step - loss: 0.8096 - accuracy: 0.6458\n",
            "Epoch 24/100\n",
            "13/13 [==============================] - 0s 2ms/step - loss: 0.8044 - accuracy: 0.6302\n",
            "Epoch 25/100\n",
            "13/13 [==============================] - 0s 2ms/step - loss: 0.7963 - accuracy: 0.6341\n",
            "Epoch 26/100\n",
            "13/13 [==============================] - 0s 2ms/step - loss: 0.7966 - accuracy: 0.6341\n",
            "Epoch 27/100\n",
            "13/13 [==============================] - 0s 1ms/step - loss: 0.7588 - accuracy: 0.6602\n",
            "Epoch 28/100\n",
            "13/13 [==============================] - 0s 2ms/step - loss: 0.7341 - accuracy: 0.6536\n",
            "Epoch 29/100\n",
            "13/13 [==============================] - 0s 2ms/step - loss: 0.7398 - accuracy: 0.6562\n",
            "Epoch 30/100\n",
            "13/13 [==============================] - 0s 2ms/step - loss: 0.7215 - accuracy: 0.6641\n",
            "Epoch 31/100\n",
            "13/13 [==============================] - 0s 2ms/step - loss: 0.7153 - accuracy: 0.6615\n",
            "Epoch 32/100\n",
            "13/13 [==============================] - 0s 1ms/step - loss: 0.7132 - accuracy: 0.6628\n",
            "Epoch 33/100\n",
            "13/13 [==============================] - 0s 2ms/step - loss: 0.6990 - accuracy: 0.6719\n",
            "Epoch 34/100\n",
            "13/13 [==============================] - 0s 1ms/step - loss: 0.7053 - accuracy: 0.6589\n",
            "Epoch 35/100\n",
            "13/13 [==============================] - 0s 2ms/step - loss: 0.6876 - accuracy: 0.6615\n",
            "Epoch 36/100\n",
            "13/13 [==============================] - 0s 2ms/step - loss: 0.6938 - accuracy: 0.6536\n",
            "Epoch 37/100\n",
            "13/13 [==============================] - 0s 1ms/step - loss: 0.6901 - accuracy: 0.6758\n",
            "Epoch 38/100\n",
            "13/13 [==============================] - 0s 1ms/step - loss: 0.6857 - accuracy: 0.6784\n",
            "Epoch 39/100\n",
            "13/13 [==============================] - 0s 2ms/step - loss: 0.6835 - accuracy: 0.6641\n",
            "Epoch 40/100\n",
            "13/13 [==============================] - 0s 2ms/step - loss: 0.6745 - accuracy: 0.6589\n",
            "Epoch 41/100\n",
            "13/13 [==============================] - 0s 2ms/step - loss: 0.6797 - accuracy: 0.6641\n",
            "Epoch 42/100\n",
            "13/13 [==============================] - 0s 3ms/step - loss: 0.6805 - accuracy: 0.6641\n",
            "Epoch 43/100\n",
            "13/13 [==============================] - 0s 2ms/step - loss: 0.6674 - accuracy: 0.6706\n",
            "Epoch 44/100\n",
            "13/13 [==============================] - 0s 2ms/step - loss: 0.6602 - accuracy: 0.6849\n",
            "Epoch 45/100\n",
            "13/13 [==============================] - 0s 2ms/step - loss: 0.6570 - accuracy: 0.6758\n",
            "Epoch 46/100\n",
            "13/13 [==============================] - 0s 2ms/step - loss: 0.6530 - accuracy: 0.6797\n",
            "Epoch 47/100\n",
            "13/13 [==============================] - 0s 3ms/step - loss: 0.6607 - accuracy: 0.6706\n",
            "Epoch 48/100\n",
            "13/13 [==============================] - 0s 2ms/step - loss: 0.6566 - accuracy: 0.6719\n",
            "Epoch 49/100\n",
            "13/13 [==============================] - 0s 3ms/step - loss: 0.6619 - accuracy: 0.6693\n",
            "Epoch 50/100\n",
            "13/13 [==============================] - 0s 2ms/step - loss: 0.6475 - accuracy: 0.6719\n",
            "Epoch 51/100\n",
            "13/13 [==============================] - 0s 2ms/step - loss: 0.6500 - accuracy: 0.6810\n",
            "Epoch 52/100\n",
            "13/13 [==============================] - 0s 2ms/step - loss: 0.6567 - accuracy: 0.6654\n",
            "Epoch 53/100\n",
            "13/13 [==============================] - 0s 1ms/step - loss: 0.6380 - accuracy: 0.6836\n",
            "Epoch 54/100\n",
            "13/13 [==============================] - 0s 2ms/step - loss: 0.6479 - accuracy: 0.6732\n",
            "Epoch 55/100\n",
            "13/13 [==============================] - 0s 2ms/step - loss: 0.6642 - accuracy: 0.6719\n",
            "Epoch 56/100\n",
            "13/13 [==============================] - 0s 1ms/step - loss: 0.6300 - accuracy: 0.6849\n",
            "Epoch 57/100\n",
            "13/13 [==============================] - 0s 2ms/step - loss: 0.6350 - accuracy: 0.6849\n",
            "Epoch 58/100\n",
            "13/13 [==============================] - 0s 1ms/step - loss: 0.6359 - accuracy: 0.6849\n",
            "Epoch 59/100\n",
            "13/13 [==============================] - 0s 1ms/step - loss: 0.6270 - accuracy: 0.6914\n",
            "Epoch 60/100\n",
            "13/13 [==============================] - 0s 2ms/step - loss: 0.6410 - accuracy: 0.6823\n",
            "Epoch 61/100\n",
            "13/13 [==============================] - 0s 2ms/step - loss: 0.6333 - accuracy: 0.6849\n",
            "Epoch 62/100\n",
            "13/13 [==============================] - 0s 1ms/step - loss: 0.6212 - accuracy: 0.7057\n",
            "Epoch 63/100\n",
            "13/13 [==============================] - 0s 1ms/step - loss: 0.6224 - accuracy: 0.6901\n",
            "Epoch 64/100\n",
            "13/13 [==============================] - 0s 1ms/step - loss: 0.6289 - accuracy: 0.6966\n",
            "Epoch 65/100\n",
            "13/13 [==============================] - 0s 2ms/step - loss: 0.6219 - accuracy: 0.6914\n",
            "Epoch 66/100\n",
            "13/13 [==============================] - 0s 2ms/step - loss: 0.6189 - accuracy: 0.7031\n",
            "Epoch 67/100\n",
            "13/13 [==============================] - 0s 2ms/step - loss: 0.6431 - accuracy: 0.6849\n",
            "Epoch 68/100\n",
            "13/13 [==============================] - 0s 2ms/step - loss: 0.6249 - accuracy: 0.6914\n",
            "Epoch 69/100\n",
            "13/13 [==============================] - 0s 1ms/step - loss: 0.6407 - accuracy: 0.6771\n",
            "Epoch 70/100\n",
            "13/13 [==============================] - 0s 2ms/step - loss: 0.6374 - accuracy: 0.6810\n",
            "Epoch 71/100\n",
            "13/13 [==============================] - 0s 1ms/step - loss: 0.6405 - accuracy: 0.6849\n",
            "Epoch 72/100\n",
            "13/13 [==============================] - 0s 1ms/step - loss: 0.6372 - accuracy: 0.6745\n",
            "Epoch 73/100\n",
            "13/13 [==============================] - 0s 1ms/step - loss: 0.6303 - accuracy: 0.6836\n",
            "Epoch 74/100\n",
            "13/13 [==============================] - 0s 2ms/step - loss: 0.6158 - accuracy: 0.6992\n",
            "Epoch 75/100\n",
            "13/13 [==============================] - 0s 1ms/step - loss: 0.6160 - accuracy: 0.6966\n",
            "Epoch 76/100\n",
            "13/13 [==============================] - 0s 2ms/step - loss: 0.6082 - accuracy: 0.7109\n",
            "Epoch 77/100\n",
            "13/13 [==============================] - 0s 2ms/step - loss: 0.6259 - accuracy: 0.6836\n",
            "Epoch 78/100\n",
            "13/13 [==============================] - 0s 1ms/step - loss: 0.6080 - accuracy: 0.6953\n",
            "Epoch 79/100\n",
            "13/13 [==============================] - 0s 1ms/step - loss: 0.6091 - accuracy: 0.7005\n",
            "Epoch 80/100\n",
            "13/13 [==============================] - 0s 1ms/step - loss: 0.6058 - accuracy: 0.6927\n",
            "Epoch 81/100\n",
            "13/13 [==============================] - 0s 1ms/step - loss: 0.6078 - accuracy: 0.6966\n",
            "Epoch 82/100\n",
            "13/13 [==============================] - 0s 1ms/step - loss: 0.6044 - accuracy: 0.6901\n",
            "Epoch 83/100\n",
            "13/13 [==============================] - 0s 2ms/step - loss: 0.6035 - accuracy: 0.7044\n",
            "Epoch 84/100\n",
            "13/13 [==============================] - 0s 1ms/step - loss: 0.6124 - accuracy: 0.6940\n",
            "Epoch 85/100\n",
            "13/13 [==============================] - 0s 1ms/step - loss: 0.6310 - accuracy: 0.6849\n",
            "Epoch 86/100\n",
            "13/13 [==============================] - 0s 1ms/step - loss: 0.6620 - accuracy: 0.6758\n",
            "Epoch 87/100\n",
            "13/13 [==============================] - 0s 1ms/step - loss: 0.6239 - accuracy: 0.6914\n",
            "Epoch 88/100\n",
            "13/13 [==============================] - 0s 1ms/step - loss: 0.6774 - accuracy: 0.6693\n",
            "Epoch 89/100\n",
            "13/13 [==============================] - 0s 1ms/step - loss: 0.5990 - accuracy: 0.6966\n",
            "Epoch 90/100\n",
            "13/13 [==============================] - 0s 1ms/step - loss: 0.6036 - accuracy: 0.6940\n",
            "Epoch 91/100\n",
            "13/13 [==============================] - 0s 1ms/step - loss: 0.6043 - accuracy: 0.6966\n",
            "Epoch 92/100\n",
            "13/13 [==============================] - 0s 1ms/step - loss: 0.6079 - accuracy: 0.6888\n",
            "Epoch 93/100\n",
            "13/13 [==============================] - 0s 2ms/step - loss: 0.5912 - accuracy: 0.7096\n",
            "Epoch 94/100\n",
            "13/13 [==============================] - 0s 2ms/step - loss: 0.5992 - accuracy: 0.7018\n",
            "Epoch 95/100\n",
            "13/13 [==============================] - 0s 3ms/step - loss: 0.5891 - accuracy: 0.7057\n",
            "Epoch 96/100\n",
            "13/13 [==============================] - 0s 3ms/step - loss: 0.6178 - accuracy: 0.6992\n",
            "Epoch 97/100\n",
            "13/13 [==============================] - 0s 3ms/step - loss: 0.5948 - accuracy: 0.6979\n",
            "Epoch 98/100\n",
            "13/13 [==============================] - 0s 4ms/step - loss: 0.5989 - accuracy: 0.6992\n",
            "Epoch 99/100\n",
            "13/13 [==============================] - 0s 3ms/step - loss: 0.5962 - accuracy: 0.6940\n",
            "Epoch 100/100\n",
            "13/13 [==============================] - 0s 3ms/step - loss: 0.6161 - accuracy: 0.6901\n",
            "24/24 [==============================] - 0s 2ms/step - loss: 0.5872 - accuracy: 0.7109\n",
            "\n",
            " Final Accuracy: 71.09\n"
          ]
        }
      ]
    },
    {
      "cell_type": "markdown",
      "metadata": {
        "id": "T7lCLJuLMYb8"
      },
      "source": [
        "###Sweep number of neurons and number of layers"
      ]
    },
    {
      "cell_type": "markdown",
      "metadata": {
        "id": "2LVqlcKRMhy4"
      },
      "source": [
        "Re-define model creation function"
      ]
    },
    {
      "cell_type": "code",
      "metadata": {
        "id": "dbGyzFWkMdWx"
      },
      "source": [
        "def create_and_compile_model(num_neurons, num_layers):\n",
        "\t# create model\n",
        "  model = Sequential()\n",
        "  model.add(Dense(num_neurons, input_dim=8, activation='relu'))\n",
        "\n",
        "  if num_layers > 0:\n",
        "\n",
        "    while num_layers > 0:\n",
        "      model.add(Dense(num_neurons, activation='relu'))\n",
        "      num_layers=num_layers-1\n",
        "\n",
        "\n",
        "  model.add(Dense(1, activation='sigmoid')) # output layer\n",
        "\n",
        "  # Compile model\n",
        "  model.compile(loss='binary_crossentropy', optimizer='adam', metrics=['accuracy'])\n",
        "\n",
        "  print(model.summary())\n",
        "  print('--')\n",
        "\n",
        "  return model\n"
      ],
      "execution_count": 7,
      "outputs": []
    },
    {
      "cell_type": "markdown",
      "metadata": {
        "id": "QDgyRhAYOUbs"
      },
      "source": [
        "Create new model"
      ]
    },
    {
      "cell_type": "code",
      "metadata": {
        "id": "zIq_pfUOOV_z",
        "outputId": "a2e6128b-c29e-4408-8af7-49774e7eb159",
        "colab": {
          "base_uri": "https://localhost:8080/"
        }
      },
      "source": [
        "# create model\n",
        "model = KerasClassifier(build_fn=create_and_compile_model,\n",
        "                        epochs=100,\n",
        "                        batch_size=10,\n",
        "                        verbose=0,\n",
        "                        num_layers=0,\n",
        "                        num_neurons = 3)\n",
        "\n",
        "# define the grid search parameters\n",
        "num_neurons_grid = [3, 100]\n",
        "num_layers_grid = [0, 4]\n",
        "\n",
        "param_grid = dict(num_neurons=num_neurons_grid, num_layers=num_layers_grid)\n",
        "\n",
        "grid = GridSearchCV(estimator=model, param_grid=param_grid, n_jobs=-1, cv=3)\n",
        "\n",
        "grid_result = grid.fit(X, y)"
      ],
      "execution_count": 8,
      "outputs": [
        {
          "output_type": "stream",
          "name": "stdout",
          "text": [
            "Model: \"sequential_2\"\n",
            "_________________________________________________________________\n",
            " Layer (type)                Output Shape              Param #   \n",
            "=================================================================\n",
            " dense_4 (Dense)             (None, 100)               900       \n",
            "                                                                 \n",
            " dense_5 (Dense)             (None, 100)               10100     \n",
            "                                                                 \n",
            " dense_6 (Dense)             (None, 100)               10100     \n",
            "                                                                 \n",
            " dense_7 (Dense)             (None, 100)               10100     \n",
            "                                                                 \n",
            " dense_8 (Dense)             (None, 100)               10100     \n",
            "                                                                 \n",
            " dense_9 (Dense)             (None, 1)                 101       \n",
            "                                                                 \n",
            "=================================================================\n",
            "Total params: 41401 (161.72 KB)\n",
            "Trainable params: 41401 (161.72 KB)\n",
            "Non-trainable params: 0 (0.00 Byte)\n",
            "_________________________________________________________________\n"
          ]
        },
        {
          "output_type": "stream",
          "name": "stderr",
          "text": [
            "/usr/local/lib/python3.10/dist-packages/scikeras/wrappers.py:915: UserWarning: ``build_fn`` will be renamed to ``model`` in a future release, at which point use of ``build_fn`` will raise an Error instead.\n",
            "  X, y = self._initialize(X, y)\n"
          ]
        },
        {
          "output_type": "stream",
          "name": "stdout",
          "text": [
            "None\n",
            "--\n"
          ]
        }
      ]
    },
    {
      "cell_type": "markdown",
      "metadata": {
        "id": "uYbXmMXjOYoB"
      },
      "source": [
        "Evaluate output"
      ]
    },
    {
      "cell_type": "code",
      "metadata": {
        "id": "mPh--vfVOZ_j",
        "outputId": "d71f1f34-b1f4-49e5-8040-873f91eb7174",
        "colab": {
          "base_uri": "https://localhost:8080/"
        }
      },
      "source": [
        "print(\"Best: %f using %s\" % (grid_result.best_score_, grid_result.best_params_))\n",
        "\n",
        "means = grid_result.cv_results_['mean_test_score']\n",
        "\n",
        "params = grid_result.cv_results_['params']\n",
        "\n",
        "for mean, param in zip(means, params):\n",
        "    print(\"train accuracy %f for: %r\" % (mean, param))"
      ],
      "execution_count": 9,
      "outputs": [
        {
          "output_type": "stream",
          "name": "stdout",
          "text": [
            "Best: 0.731771 using {'num_layers': 4, 'num_neurons': 100}\n",
            "train accuracy 0.664062 for: {'num_layers': 0, 'num_neurons': 3}\n",
            "train accuracy 0.709635 for: {'num_layers': 0, 'num_neurons': 100}\n",
            "train accuracy 0.680990 for: {'num_layers': 4, 'num_neurons': 3}\n",
            "train accuracy 0.731771 for: {'num_layers': 4, 'num_neurons': 100}\n"
          ]
        }
      ]
    },
    {
      "cell_type": "markdown",
      "metadata": {
        "id": "0mg9sBZ_VYIH"
      },
      "source": [
        "Verify best hyperparameters"
      ]
    },
    {
      "cell_type": "code",
      "metadata": {
        "id": "76sl4JXWVZ5F",
        "outputId": "de9f0e96-5d26-4ece-c59f-b4eef3e54b01",
        "colab": {
          "base_uri": "https://localhost:8080/"
        }
      },
      "source": [
        "# define the keras model\n",
        "model2 = Sequential()\n",
        "model2.add(Dense(100, input_dim=8, activation='relu'))\n",
        "model2.add(Dense(100, activation='relu'))\n",
        "model2.add(Dense(100, activation='relu'))\n",
        "model2.add(Dense(100, activation='relu'))\n",
        "model2.add(Dense(1, activation='sigmoid'))\n",
        "\n",
        "# compile the keras model\n",
        "model2.compile(loss='binary_crossentropy', optimizer='adam', metrics=['accuracy'])\n",
        "\n",
        "# fit the keras model on the dataset\n",
        "model2.fit(X, y, epochs=100, batch_size=10)\n",
        "\n",
        "# evaluate the keras model\n",
        "_, accuracy = model2.evaluate(X, y)\n",
        "\n",
        "print('\\n Final Accuracy: %.2f' % (accuracy*100))"
      ],
      "execution_count": 10,
      "outputs": [
        {
          "output_type": "stream",
          "name": "stdout",
          "text": [
            "Epoch 1/100\n",
            "77/77 [==============================] - 1s 1ms/step - loss: 1.0431 - accuracy: 0.5977\n",
            "Epoch 2/100\n",
            "77/77 [==============================] - 0s 1ms/step - loss: 0.6840 - accuracy: 0.6641\n",
            "Epoch 3/100\n",
            "77/77 [==============================] - 0s 1ms/step - loss: 0.6597 - accuracy: 0.6719\n",
            "Epoch 4/100\n",
            "77/77 [==============================] - 0s 2ms/step - loss: 0.6503 - accuracy: 0.6615\n",
            "Epoch 5/100\n",
            "77/77 [==============================] - 0s 1ms/step - loss: 0.6027 - accuracy: 0.6888\n",
            "Epoch 6/100\n",
            "77/77 [==============================] - 0s 2ms/step - loss: 0.6336 - accuracy: 0.7031\n",
            "Epoch 7/100\n",
            "77/77 [==============================] - 0s 1ms/step - loss: 0.6169 - accuracy: 0.6628\n",
            "Epoch 8/100\n",
            "77/77 [==============================] - 0s 1ms/step - loss: 0.5744 - accuracy: 0.7044\n",
            "Epoch 9/100\n",
            "77/77 [==============================] - 0s 1ms/step - loss: 0.5721 - accuracy: 0.7096\n",
            "Epoch 10/100\n",
            "77/77 [==============================] - 0s 2ms/step - loss: 0.5606 - accuracy: 0.7253\n",
            "Epoch 11/100\n",
            "77/77 [==============================] - 0s 2ms/step - loss: 0.5768 - accuracy: 0.7070\n",
            "Epoch 12/100\n",
            "77/77 [==============================] - 0s 1ms/step - loss: 0.5660 - accuracy: 0.7096\n",
            "Epoch 13/100\n",
            "77/77 [==============================] - 0s 1ms/step - loss: 0.5888 - accuracy: 0.6862\n",
            "Epoch 14/100\n",
            "77/77 [==============================] - 0s 1ms/step - loss: 0.5623 - accuracy: 0.7122\n",
            "Epoch 15/100\n",
            "77/77 [==============================] - 0s 2ms/step - loss: 0.5402 - accuracy: 0.7383\n",
            "Epoch 16/100\n",
            "77/77 [==============================] - 0s 2ms/step - loss: 0.5494 - accuracy: 0.7174\n",
            "Epoch 17/100\n",
            "77/77 [==============================] - 0s 1ms/step - loss: 0.5519 - accuracy: 0.7305\n",
            "Epoch 18/100\n",
            "77/77 [==============================] - 0s 1ms/step - loss: 0.5402 - accuracy: 0.7318\n",
            "Epoch 19/100\n",
            "77/77 [==============================] - 0s 1ms/step - loss: 0.5407 - accuracy: 0.7161\n",
            "Epoch 20/100\n",
            "77/77 [==============================] - 0s 1ms/step - loss: 0.5200 - accuracy: 0.7331\n",
            "Epoch 21/100\n",
            "77/77 [==============================] - 0s 1ms/step - loss: 0.5366 - accuracy: 0.7266\n",
            "Epoch 22/100\n",
            "77/77 [==============================] - 0s 1ms/step - loss: 0.5247 - accuracy: 0.7292\n",
            "Epoch 23/100\n",
            "77/77 [==============================] - 0s 1ms/step - loss: 0.5171 - accuracy: 0.7461\n",
            "Epoch 24/100\n",
            "77/77 [==============================] - 0s 1ms/step - loss: 0.5259 - accuracy: 0.7266\n",
            "Epoch 25/100\n",
            "77/77 [==============================] - 0s 1ms/step - loss: 0.5306 - accuracy: 0.7292\n",
            "Epoch 26/100\n",
            "77/77 [==============================] - 0s 1ms/step - loss: 0.5282 - accuracy: 0.7344\n",
            "Epoch 27/100\n",
            "77/77 [==============================] - 0s 1ms/step - loss: 0.5129 - accuracy: 0.7435\n",
            "Epoch 28/100\n",
            "77/77 [==============================] - 0s 2ms/step - loss: 0.5081 - accuracy: 0.7578\n",
            "Epoch 29/100\n",
            "77/77 [==============================] - 0s 1ms/step - loss: 0.5150 - accuracy: 0.7500\n",
            "Epoch 30/100\n",
            "77/77 [==============================] - 0s 1ms/step - loss: 0.4950 - accuracy: 0.7643\n",
            "Epoch 31/100\n",
            "77/77 [==============================] - 0s 1ms/step - loss: 0.4876 - accuracy: 0.7435\n",
            "Epoch 32/100\n",
            "77/77 [==============================] - 0s 1ms/step - loss: 0.4943 - accuracy: 0.7526\n",
            "Epoch 33/100\n",
            "77/77 [==============================] - 0s 1ms/step - loss: 0.4877 - accuracy: 0.7578\n",
            "Epoch 34/100\n",
            "77/77 [==============================] - 0s 2ms/step - loss: 0.4935 - accuracy: 0.7461\n",
            "Epoch 35/100\n",
            "77/77 [==============================] - 0s 1ms/step - loss: 0.4795 - accuracy: 0.7591\n",
            "Epoch 36/100\n",
            "77/77 [==============================] - 0s 1ms/step - loss: 0.4808 - accuracy: 0.7578\n",
            "Epoch 37/100\n",
            "77/77 [==============================] - 0s 2ms/step - loss: 0.4914 - accuracy: 0.7565\n",
            "Epoch 38/100\n",
            "77/77 [==============================] - 0s 1ms/step - loss: 0.4877 - accuracy: 0.7552\n",
            "Epoch 39/100\n",
            "77/77 [==============================] - 0s 1ms/step - loss: 0.5002 - accuracy: 0.7461\n",
            "Epoch 40/100\n",
            "77/77 [==============================] - 0s 1ms/step - loss: 0.4884 - accuracy: 0.7604\n",
            "Epoch 41/100\n",
            "77/77 [==============================] - 0s 1ms/step - loss: 0.4841 - accuracy: 0.7734\n",
            "Epoch 42/100\n",
            "77/77 [==============================] - 0s 1ms/step - loss: 0.4844 - accuracy: 0.7695\n",
            "Epoch 43/100\n",
            "77/77 [==============================] - 0s 1ms/step - loss: 0.4878 - accuracy: 0.7500\n",
            "Epoch 44/100\n",
            "77/77 [==============================] - 0s 1ms/step - loss: 0.4758 - accuracy: 0.7721\n",
            "Epoch 45/100\n",
            "77/77 [==============================] - 0s 2ms/step - loss: 0.4818 - accuracy: 0.7669\n",
            "Epoch 46/100\n",
            "77/77 [==============================] - 0s 2ms/step - loss: 0.4600 - accuracy: 0.7708\n",
            "Epoch 47/100\n",
            "77/77 [==============================] - 0s 2ms/step - loss: 0.4657 - accuracy: 0.7630\n",
            "Epoch 48/100\n",
            "77/77 [==============================] - 0s 2ms/step - loss: 0.4572 - accuracy: 0.7760\n",
            "Epoch 49/100\n",
            "77/77 [==============================] - 0s 2ms/step - loss: 0.4454 - accuracy: 0.7878\n",
            "Epoch 50/100\n",
            "77/77 [==============================] - 0s 2ms/step - loss: 0.4590 - accuracy: 0.7812\n",
            "Epoch 51/100\n",
            "77/77 [==============================] - 0s 2ms/step - loss: 0.4671 - accuracy: 0.7747\n",
            "Epoch 52/100\n",
            "77/77 [==============================] - 0s 2ms/step - loss: 0.4374 - accuracy: 0.8034\n",
            "Epoch 53/100\n",
            "77/77 [==============================] - 0s 2ms/step - loss: 0.4394 - accuracy: 0.7982\n",
            "Epoch 54/100\n",
            "77/77 [==============================] - 0s 2ms/step - loss: 0.4448 - accuracy: 0.7826\n",
            "Epoch 55/100\n",
            "77/77 [==============================] - 0s 2ms/step - loss: 0.4463 - accuracy: 0.7799\n",
            "Epoch 56/100\n",
            "77/77 [==============================] - 0s 2ms/step - loss: 0.4529 - accuracy: 0.7799\n",
            "Epoch 57/100\n",
            "77/77 [==============================] - 0s 2ms/step - loss: 0.4317 - accuracy: 0.7904\n",
            "Epoch 58/100\n",
            "77/77 [==============================] - 0s 2ms/step - loss: 0.4238 - accuracy: 0.7995\n",
            "Epoch 59/100\n",
            "77/77 [==============================] - 0s 2ms/step - loss: 0.4212 - accuracy: 0.8047\n",
            "Epoch 60/100\n",
            "77/77 [==============================] - 0s 2ms/step - loss: 0.4217 - accuracy: 0.8112\n",
            "Epoch 61/100\n",
            "77/77 [==============================] - 0s 1ms/step - loss: 0.4179 - accuracy: 0.7943\n",
            "Epoch 62/100\n",
            "77/77 [==============================] - 0s 1ms/step - loss: 0.4152 - accuracy: 0.8125\n",
            "Epoch 63/100\n",
            "77/77 [==============================] - 0s 2ms/step - loss: 0.4189 - accuracy: 0.8008\n",
            "Epoch 64/100\n",
            "77/77 [==============================] - 0s 2ms/step - loss: 0.4183 - accuracy: 0.7995\n",
            "Epoch 65/100\n",
            "77/77 [==============================] - 0s 2ms/step - loss: 0.4044 - accuracy: 0.8216\n",
            "Epoch 66/100\n",
            "77/77 [==============================] - 0s 1ms/step - loss: 0.4106 - accuracy: 0.8229\n",
            "Epoch 67/100\n",
            "77/77 [==============================] - 0s 1ms/step - loss: 0.4000 - accuracy: 0.8086\n",
            "Epoch 68/100\n",
            "77/77 [==============================] - 0s 1ms/step - loss: 0.3830 - accuracy: 0.8099\n",
            "Epoch 69/100\n",
            "77/77 [==============================] - 0s 2ms/step - loss: 0.4030 - accuracy: 0.8034\n",
            "Epoch 70/100\n",
            "77/77 [==============================] - 0s 1ms/step - loss: 0.3918 - accuracy: 0.8216\n",
            "Epoch 71/100\n",
            "77/77 [==============================] - 0s 1ms/step - loss: 0.3969 - accuracy: 0.8073\n",
            "Epoch 72/100\n",
            "77/77 [==============================] - 0s 1ms/step - loss: 0.3826 - accuracy: 0.8320\n",
            "Epoch 73/100\n",
            "77/77 [==============================] - 0s 1ms/step - loss: 0.3932 - accuracy: 0.8073\n",
            "Epoch 74/100\n",
            "77/77 [==============================] - 0s 1ms/step - loss: 0.3766 - accuracy: 0.8281\n",
            "Epoch 75/100\n",
            "77/77 [==============================] - 0s 1ms/step - loss: 0.3725 - accuracy: 0.8164\n",
            "Epoch 76/100\n",
            "77/77 [==============================] - 0s 1ms/step - loss: 0.3803 - accuracy: 0.8372\n",
            "Epoch 77/100\n",
            "77/77 [==============================] - 0s 1ms/step - loss: 0.4042 - accuracy: 0.8047\n",
            "Epoch 78/100\n",
            "77/77 [==============================] - 0s 2ms/step - loss: 0.3894 - accuracy: 0.8177\n",
            "Epoch 79/100\n",
            "77/77 [==============================] - 0s 1ms/step - loss: 0.3774 - accuracy: 0.8203\n",
            "Epoch 80/100\n",
            "77/77 [==============================] - 0s 1ms/step - loss: 0.3605 - accuracy: 0.8503\n",
            "Epoch 81/100\n",
            "77/77 [==============================] - 0s 1ms/step - loss: 0.3837 - accuracy: 0.8268\n",
            "Epoch 82/100\n",
            "77/77 [==============================] - 0s 1ms/step - loss: 0.3618 - accuracy: 0.8281\n",
            "Epoch 83/100\n",
            "77/77 [==============================] - 0s 1ms/step - loss: 0.3873 - accuracy: 0.8190\n",
            "Epoch 84/100\n",
            "77/77 [==============================] - 0s 1ms/step - loss: 0.3597 - accuracy: 0.8307\n",
            "Epoch 85/100\n",
            "77/77 [==============================] - 0s 1ms/step - loss: 0.3586 - accuracy: 0.8398\n",
            "Epoch 86/100\n",
            "77/77 [==============================] - 0s 2ms/step - loss: 0.3674 - accuracy: 0.8203\n",
            "Epoch 87/100\n",
            "77/77 [==============================] - 0s 2ms/step - loss: 0.3491 - accuracy: 0.8320\n",
            "Epoch 88/100\n",
            "77/77 [==============================] - 0s 2ms/step - loss: 0.3452 - accuracy: 0.8477\n",
            "Epoch 89/100\n",
            "77/77 [==============================] - 0s 1ms/step - loss: 0.3589 - accuracy: 0.8255\n",
            "Epoch 90/100\n",
            "77/77 [==============================] - 0s 2ms/step - loss: 0.3666 - accuracy: 0.8255\n",
            "Epoch 91/100\n",
            "77/77 [==============================] - 0s 1ms/step - loss: 0.3440 - accuracy: 0.8359\n",
            "Epoch 92/100\n",
            "77/77 [==============================] - 0s 2ms/step - loss: 0.3806 - accuracy: 0.8190\n",
            "Epoch 93/100\n",
            "77/77 [==============================] - 0s 1ms/step - loss: 0.3353 - accuracy: 0.8490\n",
            "Epoch 94/100\n",
            "77/77 [==============================] - 0s 2ms/step - loss: 0.3543 - accuracy: 0.8281\n",
            "Epoch 95/100\n",
            "77/77 [==============================] - 0s 1ms/step - loss: 0.3435 - accuracy: 0.8216\n",
            "Epoch 96/100\n",
            "77/77 [==============================] - 0s 1ms/step - loss: 0.3309 - accuracy: 0.8411\n",
            "Epoch 97/100\n",
            "77/77 [==============================] - 0s 1ms/step - loss: 0.3215 - accuracy: 0.8555\n",
            "Epoch 98/100\n",
            "77/77 [==============================] - 0s 1ms/step - loss: 0.3396 - accuracy: 0.8490\n",
            "Epoch 99/100\n",
            "77/77 [==============================] - 0s 1ms/step - loss: 0.3229 - accuracy: 0.8424\n",
            "Epoch 100/100\n",
            "77/77 [==============================] - 0s 1ms/step - loss: 0.2968 - accuracy: 0.8711\n",
            "24/24 [==============================] - 0s 1ms/step - loss: 0.2835 - accuracy: 0.8867\n",
            "\n",
            " Final Accuracy: 88.67\n"
          ]
        }
      ]
    },
    {
      "cell_type": "markdown",
      "metadata": {
        "id": "FHktI9XBKjzb"
      },
      "source": [
        "This demo is modified from https://machinelearningmastery.com/grid-search-hyperparameters-deep-learning-models-python-keras/"
      ]
    }
  ]
}