{
  "cells": [
    {
      "cell_type": "markdown",
      "id": "83bd399d",
      "metadata": {
        "id": "83bd399d"
      },
      "source": [
        "## Preamble"
      ]
    },
    {
      "cell_type": "code",
      "source": [
        "import sqlite3\n",
        "\n",
        "import numpy as np\n",
        "import matplotlib.pyplot as plt\n",
        "import pandas as pd\n",
        "pd.set_option('display.max_rows', 500)\n",
        "pd.set_option('display.max_columns', 500)\n",
        "pd.set_option('display.width', 1000)\n",
        "import scipy.stats as stats\n",
        "import seaborn as sns\n",
        "\n",
        "import statsmodels.api as sm\n",
        "\n",
        "# for regression\n",
        "import statsmodels.formula.api as smf\n",
        "from sklearn import datasets\n",
        "from statistics import mean"
      ],
      "metadata": {
        "id": "jwX8lQr-AUbU"
      },
      "id": "jwX8lQr-AUbU",
      "execution_count": null,
      "outputs": []
    },
    {
      "cell_type": "markdown",
      "source": [
        "## Import Database"
      ],
      "metadata": {
        "id": "WE_5o7b-AP8H"
      },
      "id": "WE_5o7b-AP8H"
    },
    {
      "cell_type": "code",
      "source": [
        "# Read database\n",
        "my_connection=sqlite3.connect(\"weather_data-1.db\")\n",
        "my_cursor=my_connection.cursor()"
      ],
      "metadata": {
        "id": "0AYVgXw_Avly"
      },
      "id": "0AYVgXw_Avly",
      "execution_count": null,
      "outputs": []
    },
    {
      "cell_type": "markdown",
      "id": "0485bab1",
      "metadata": {
        "id": "0485bab1"
      },
      "source": [
        "## Section 1: Data Loading & Preparation\n"
      ]
    },
    {
      "cell_type": "markdown",
      "id": "b0f322c7",
      "metadata": {
        "id": "b0f322c7"
      },
      "source": [
        "X_table"
      ]
    },
    {
      "cell_type": "code",
      "execution_count": null,
      "id": "ad066a49",
      "metadata": {
        "id": "ad066a49"
      },
      "outputs": [],
      "source": []
    },
    {
      "cell_type": "markdown",
      "source": [
        "y_table"
      ],
      "metadata": {
        "id": "gMN7Syu5CVXt"
      },
      "id": "gMN7Syu5CVXt"
    },
    {
      "cell_type": "code",
      "source": [],
      "metadata": {
        "id": "PGtSyg8HCYYh"
      },
      "id": "PGtSyg8HCYYh",
      "execution_count": null,
      "outputs": []
    },
    {
      "cell_type": "markdown",
      "source": [
        "A. Use the df.join() class method to merge the two dataframes on the \"Record_ID\" column, into a dataframe called df_new. Then, drop the \"Record_ID\" column"
      ],
      "metadata": {
        "id": "0vDG04sRCqhl"
      },
      "id": "0vDG04sRCqhl"
    },
    {
      "cell_type": "code",
      "source": [],
      "metadata": {
        "id": "kpb3otETCqLw"
      },
      "id": "kpb3otETCqLw",
      "execution_count": null,
      "outputs": []
    },
    {
      "cell_type": "markdown",
      "id": "c01b49ac",
      "metadata": {
        "id": "c01b49ac"
      },
      "source": [
        "B. Split df_new into X & y dataframes, where y only contains the AIRTEMPERATURE feature"
      ]
    },
    {
      "cell_type": "code",
      "execution_count": null,
      "id": "a804c16e",
      "metadata": {
        "id": "a804c16e"
      },
      "outputs": [],
      "source": []
    },
    {
      "cell_type": "markdown",
      "source": [
        "## Section 2: Data Understanding / Modeling"
      ],
      "metadata": {
        "id": "n-G0ULjeEqn4"
      },
      "id": "n-G0ULjeEqn4"
    },
    {
      "cell_type": "markdown",
      "source": [
        "A. Create a Data Understanding table & two python Data Understanding visualizations such as a scatterplot, histogram, pairplot, or correlation matrix."
      ],
      "metadata": {
        "id": "1mXjLYUSIRTb"
      },
      "id": "1mXjLYUSIRTb"
    },
    {
      "cell_type": "code",
      "source": [],
      "metadata": {
        "id": "EBtgaj7bEtt1"
      },
      "id": "EBtgaj7bEtt1",
      "execution_count": null,
      "outputs": []
    },
    {
      "cell_type": "markdown",
      "source": [
        "B. Full model: Model all variables using ols regression, and display a model summary"
      ],
      "metadata": {
        "id": "_FE9Q4ZSIkb9"
      },
      "id": "_FE9Q4ZSIkb9"
    },
    {
      "cell_type": "code",
      "source": [],
      "metadata": {
        "id": "uc-yZW5tK7Ua"
      },
      "id": "uc-yZW5tK7Ua",
      "execution_count": null,
      "outputs": []
    },
    {
      "cell_type": "markdown",
      "source": [
        "C. P-test selection: Use the p-test results to manually select the best variables. Display a model summary of the best p-test model."
      ],
      "metadata": {
        "id": "LowORDwjMbIh"
      },
      "id": "LowORDwjMbIh"
    },
    {
      "cell_type": "code",
      "source": [],
      "metadata": {
        "id": "G5tbu2l_N66F"
      },
      "id": "G5tbu2l_N66F",
      "execution_count": null,
      "outputs": []
    },
    {
      "cell_type": "markdown",
      "source": [
        "D. AIC selection: Use the AIC analysis code to create a set of models. Display a model summary of the best AIC model."
      ],
      "metadata": {
        "id": "5ZecshuMMthE"
      },
      "id": "5ZecshuMMthE"
    },
    {
      "cell_type": "code",
      "source": [],
      "metadata": {
        "id": "y2wkKUJUULNm"
      },
      "id": "y2wkKUJUULNm",
      "execution_count": null,
      "outputs": []
    },
    {
      "cell_type": "markdown",
      "source": [
        "E. RFE selection: Use the \"RFE iteration\" code to find the minimum set of features that achieves score = 0.980. Display a model summary of the best RFE model"
      ],
      "metadata": {
        "id": "ht7dDqnAM3bn"
      },
      "id": "ht7dDqnAM3bn"
    },
    {
      "cell_type": "code",
      "source": [],
      "metadata": {
        "id": "LzmRHMbELW4c"
      },
      "id": "LzmRHMbELW4c",
      "execution_count": null,
      "outputs": []
    },
    {
      "cell_type": "markdown",
      "source": [
        "comment on features: blah"
      ],
      "metadata": {
        "id": "rOOPGzIJNDVI"
      },
      "id": "rOOPGzIJNDVI"
    },
    {
      "cell_type": "markdown",
      "id": "936fecb4",
      "metadata": {
        "id": "936fecb4"
      },
      "source": [
        "## Section 3: Model Evaluation\n"
      ]
    },
    {
      "cell_type": "markdown",
      "source": [
        "A. I have enhanced readability by using the template with text blocks & code blocks"
      ],
      "metadata": {
        "id": "FQXIr96JZGzx"
      },
      "id": "FQXIr96JZGzx"
    },
    {
      "cell_type": "markdown",
      "id": "1efc74e8",
      "metadata": {
        "id": "1efc74e8"
      },
      "source": [
        "B.200+ word evaluation of the modeling efforts:   \n",
        "   \n",
        "blah blah\n",
        "\n"
      ]
    }
  ],
  "metadata": {
    "kernelspec": {
      "display_name": "Python 3 (ipykernel)",
      "language": "python",
      "name": "python3"
    },
    "language_info": {
      "codemirror_mode": {
        "name": "ipython",
        "version": 3
      },
      "file_extension": ".py",
      "mimetype": "text/x-python",
      "name": "python",
      "nbconvert_exporter": "python",
      "pygments_lexer": "ipython3",
      "version": "3.9.12"
    },
    "colab": {
      "provenance": []
    }
  },
  "nbformat": 4,
  "nbformat_minor": 5
}