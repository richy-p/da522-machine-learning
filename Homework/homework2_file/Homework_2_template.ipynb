{
 "cells": [
  {
   "cell_type": "markdown",
   "id": "83bd399d",
   "metadata": {
    "id": "83bd399d"
   },
   "source": [
    "## Mission Understanding"
   ]
  },
  {
   "cell_type": "markdown",
   "id": "24778c4b",
   "metadata": {
    "id": "24778c4b"
   },
   "source": [
    "blah blah"
   ]
  },
  {
   "cell_type": "markdown",
   "id": "0485bab1",
   "metadata": {
    "id": "0485bab1"
   },
   "source": [
    "## Data Understanding / Modeling"
   ]
  },
  {
   "cell_type": "markdown",
   "id": "b0f322c7",
   "metadata": {
    "id": "b0f322c7"
   },
   "source": [
    "A. The following sections of code are broken out into logical chunks, using multiple \"text\" and \"code\" sections, beginning with the preamble below:"
   ]
  },
  {
   "cell_type": "code",
   "execution_count": null,
   "id": "ad066a49",
   "metadata": {
    "id": "ad066a49"
   },
   "outputs": [],
   "source": [
    "import a library or two (or lots)"
   ]
  },
  {
   "cell_type": "markdown",
   "id": "c01b49ac",
   "metadata": {
    "id": "c01b49ac"
   },
   "source": [
    "B. Drop the \"flight\" column and one-hot-encode the \"rank\" and \"gender\" columns"
   ]
  },
  {
   "cell_type": "code",
   "execution_count": null,
   "id": "a804c16e",
   "metadata": {
    "id": "a804c16e"
   },
   "outputs": [],
   "source": [
    "df = pd.read_csv("
   ]
  },
  {
   "cell_type": "markdown",
   "id": "fa0b29bf",
   "metadata": {
    "id": "fa0b29bf"
   },
   "source": [
    "C. Create a Data Understanding table and visualizations"
   ]
  },
  {
   "cell_type": "code",
   "execution_count": null,
   "id": "b98996a8",
   "metadata": {
    "id": "b98996a8"
   },
   "outputs": [],
   "source": [
    "\n",
    "plt.show()"
   ]
  },
  {
   "cell_type": "markdown",
   "id": "0a0995a5",
   "metadata": {
    "id": "0a0995a5"
   },
   "source": [
    "The distribution of these independent variables are non-normal, so we will transform them after the test/train split."
   ]
  },
  {
   "cell_type": "markdown",
   "id": "2f26bdcd",
   "metadata": {
    "id": "2f26bdcd"
   },
   "source": [
    "D. Split df_ohe into 70% train & 30% test"
   ]
  },
  {
   "cell_type": "code",
   "execution_count": null,
   "id": "72f87f4b",
   "metadata": {
    "id": "72f87f4b"
   },
   "outputs": [],
   "source": []
  },
  {
   "cell_type": "markdown",
   "id": "d65e6b37",
   "metadata": {
    "id": "d65e6b37"
   },
   "source": [
    "E. Build Model 1: Train a statsmodels sm.Logit algorithm on the train dataset"
   ]
  },
  {
   "cell_type": "code",
   "execution_count": null,
   "id": "f5f66f54",
   "metadata": {
    "id": "f5f66f54"
   },
   "outputs": [],
   "source": []
  },
  {
   "cell_type": "markdown",
   "id": "b3a8008c",
   "metadata": {
    "id": "b3a8008c"
   },
   "source": [
    "F. Create a copy of the dataframe"
   ]
  },
  {
   "cell_type": "code",
   "execution_count": null,
   "id": "bd8fb625",
   "metadata": {
    "id": "bd8fb625"
   },
   "outputs": [],
   "source": []
  },
  {
   "cell_type": "markdown",
   "id": "a2202e07",
   "metadata": {
    "id": "a2202e07"
   },
   "source": [
    "G. Perform Box-cox and yeo-johnson transformations on non-normal data identified"
   ]
  },
  {
   "cell_type": "code",
   "execution_count": null,
   "id": "6ae70c7f",
   "metadata": {
    "id": "6ae70c7f"
   },
   "outputs": [],
   "source": []
  },
  {
   "cell_type": "markdown",
   "id": "c7d936e3",
   "metadata": {
    "id": "c7d936e3"
   },
   "source": [
    "H. Standardize the specified features"
   ]
  },
  {
   "cell_type": "code",
   "execution_count": null,
   "id": "ed4d4a42",
   "metadata": {
    "id": "ed4d4a42"
   },
   "outputs": [],
   "source": []
  },
  {
   "cell_type": "markdown",
   "id": "c4664716",
   "metadata": {
    "id": "c4664716"
   },
   "source": [
    "I. Display df_xform’s statistics"
   ]
  },
  {
   "cell_type": "code",
   "execution_count": null,
   "id": "7d1ad693",
   "metadata": {
    "id": "7d1ad693"
   },
   "outputs": [],
   "source": []
  },
  {
   "cell_type": "markdown",
   "id": "888c18de",
   "metadata": {
    "id": "888c18de"
   },
   "source": [
    "The transformed features have a mean very close to zero and a standard deviation very close to 1."
   ]
  },
  {
   "cell_type": "markdown",
   "id": "84296435",
   "metadata": {
    "id": "84296435"
   },
   "source": [
    "J. Build Model 2: split df_xform into train/test datasets, and train a statsmodels sm.Logit algorithm on the train dataset.\n"
   ]
  },
  {
   "cell_type": "code",
   "execution_count": null,
   "id": "836a9962",
   "metadata": {
    "id": "836a9962"
   },
   "outputs": [],
   "source": []
  },
  {
   "cell_type": "markdown",
   "id": "afcd6bfa",
   "metadata": {
    "id": "afcd6bfa"
   },
   "source": [
    "K. Build model 3: using the training dataset from df_xform, perform feature selection using p-value selection.\n"
   ]
  },
  {
   "cell_type": "code",
   "execution_count": null,
   "id": "fd7cb494",
   "metadata": {
    "id": "fd7cb494"
   },
   "outputs": [],
   "source": []
  },
  {
   "cell_type": "markdown",
   "id": "936fecb4",
   "metadata": {
    "id": "936fecb4"
   },
   "source": [
    "## Model Evaluation\n"
   ]
  },
  {
   "cell_type": "markdown",
   "id": "1efc74e8",
   "metadata": {
    "id": "1efc74e8"
   },
   "source": [
    "A. Calculate the accuracy for Models 1/2/3, and use it to determine the \"best\" variation"
   ]
  },
  {
   "cell_type": "code",
   "execution_count": null,
   "id": "0a946d56",
   "metadata": {
    "id": "0a946d56"
   },
   "outputs": [],
   "source": []
  },
  {
   "cell_type": "code",
   "execution_count": null,
   "id": "5b85e8e2",
   "metadata": {
    "id": "5b85e8e2"
   },
   "outputs": [],
   "source": []
  },
  {
   "cell_type": "code",
   "execution_count": null,
   "id": "7514240c",
   "metadata": {
    "id": "7514240c"
   },
   "outputs": [],
   "source": []
  },
  {
   "cell_type": "markdown",
   "id": "aa4154eb",
   "metadata": {
    "id": "aa4154eb"
   },
   "source": [
    "B. For the \"best\" model (model 2), using the train dataset, create a ROC curve plot and calculate the accuracy, odds ratio, AUC, classification report, and confusion matrix"
   ]
  },
  {
   "cell_type": "code",
   "execution_count": null,
   "id": "6a41170f",
   "metadata": {
    "id": "6a41170f"
   },
   "outputs": [],
   "source": []
  },
  {
   "cell_type": "markdown",
   "id": "a4a0c178",
   "metadata": {
    "id": "a4a0c178"
   },
   "source": [
    "C. For the \"best\" model (model 2), using the test dataset, create a ROC curve plot and calculate the accuracy, AUC, classification report, and confusion matrix."
   ]
  },
  {
   "cell_type": "code",
   "execution_count": null,
   "id": "372a4618",
   "metadata": {
    "id": "372a4618"
   },
   "outputs": [],
   "source": []
  },
  {
   "cell_type": "markdown",
   "id": "db72a5f3",
   "metadata": {
    "id": "db72a5f3"
   },
   "source": [
    "## Model Selection"
   ]
  },
  {
   "cell_type": "markdown",
   "id": "470e6ca1",
   "metadata": {
    "id": "470e6ca1"
   },
   "source": [
    "blah blah"
   ]
  }
 ],
 "metadata": {
  "colab": {
   "provenance": []
  },
  "kernelspec": {
   "display_name": "Python 3 (ipykernel)",
   "language": "python",
   "name": "python3"
  },
  "language_info": {
   "codemirror_mode": {
    "name": "ipython",
    "version": 3
   },
   "file_extension": ".py",
   "mimetype": "text/x-python",
   "name": "python",
   "nbconvert_exporter": "python",
   "pygments_lexer": "ipython3",
   "version": "3.8.16"
  }
 },
 "nbformat": 4,
 "nbformat_minor": 5
}
